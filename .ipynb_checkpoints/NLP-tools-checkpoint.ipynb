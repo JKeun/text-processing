{
 "cells": [
  {
   "cell_type": "markdown",
   "metadata": {},
   "source": [
    "## NLP(Natual Language Process) Tools\n",
    "- `nltk`\n",
    "- `scikit-learn.feature_extraction.text`\n",
    "- Korean Language tools\n",
    "  - `koNLPy`\n",
    "  - `Soynlp`"
   ]
  },
  {
   "cell_type": "markdown",
   "metadata": {},
   "source": [
    "### nltk\n",
    "NLTK is a leading platform for building `Python programs` to work with human language data. It provides easy-to-use interfaces to over 50 corpora and lexical resources such as WordNet, along with a suite of **text processing libraries for `classification`, `tokenization`, `stemming`, `tagging`, `parsing`, and `semantic reasoning`, wrappers for industrial-strength NLP libraries**, and an active discussion forum.\n",
    "\n",
    "**Features**:\n",
    " - tokenize\n",
    " - corpus\n",
    " - utils\n",
    " - probability\n",
    " - stem\n",
    " - tag"
   ]
  },
  {
   "cell_type": "markdown",
   "metadata": {},
   "source": [
    "***Corpus***\n",
    "\n",
    "A corpus is a `set of sample documents` created for natural language analysis tasks. The `corpus` subpackage of NLTK provides a variety of reasearch corpus. The corpus must be downloaded by the user using the `downlaod` command. The `nltk.download(\"book\")` command downloads most of the corpus required by the NLTK package user manual."
   ]
  },
  {
   "cell_type": "code",
   "execution_count": 1,
   "metadata": {},
   "outputs": [
    {
     "name": "stdout",
     "output_type": "stream",
     "text": [
      "*** Introductory Examples for the NLTK Book ***\n",
      "Loading text1, ..., text9 and sent1, ..., sent9\n",
      "Type the name of the text or sentence to view it.\n",
      "Type: 'texts()' or 'sents()' to list the materials.\n",
      "text1: Moby Dick by Herman Melville 1851\n",
      "text2: Sense and Sensibility by Jane Austen 1811\n",
      "text3: The Book of Genesis\n",
      "text4: Inaugural Address Corpus\n",
      "text5: Chat Corpus\n",
      "text6: Monty Python and the Holy Grail\n",
      "text7: Wall Street Journal\n",
      "text8: Personals Corpus\n",
      "text9: The Man Who Was Thursday by G . K . Chesterton 1908\n"
     ]
    }
   ],
   "source": [
    "import nltk\n",
    "nltk.download(\"book\", quiet=True) # download corpora\n",
    "\n",
    "from nltk.book import *"
   ]
  },
  {
   "cell_type": "code",
   "execution_count": 2,
   "metadata": {},
   "outputs": [
    {
     "data": {
      "text/plain": [
       "['austen-emma.txt',\n",
       " 'austen-persuasion.txt',\n",
       " 'austen-sense.txt',\n",
       " 'bible-kjv.txt',\n",
       " 'blake-poems.txt',\n",
       " 'bryant-stories.txt',\n",
       " 'burgess-busterbrown.txt',\n",
       " 'carroll-alice.txt',\n",
       " 'chesterton-ball.txt',\n",
       " 'chesterton-brown.txt',\n",
       " 'chesterton-thursday.txt',\n",
       " 'edgeworth-parents.txt',\n",
       " 'melville-moby_dick.txt',\n",
       " 'milton-paradise.txt',\n",
       " 'shakespeare-caesar.txt',\n",
       " 'shakespeare-hamlet.txt',\n",
       " 'shakespeare-macbeth.txt',\n",
       " 'whitman-leaves.txt']"
      ]
     },
     "execution_count": 2,
     "metadata": {},
     "output_type": "execute_result"
    }
   ],
   "source": [
    "nltk.corpus.gutenberg.fileids() # show gutenberg corpus"
   ]
  },
  {
   "cell_type": "code",
   "execution_count": 3,
   "metadata": {},
   "outputs": [
    {
     "name": "stdout",
     "output_type": "stream",
     "text": [
      "[Emma by Jane Austen 1816]\n",
      "\n",
      "VOLUME I\n",
      "\n",
      "CHAPTER I\n",
      "\n",
      "\n",
      "Emma Woodhouse, handsome, clever, and rich, with a comfortable home\n",
      "and happy disposition, seemed to unite some of the best blessings\n",
      "of existence; and had lived nearly twenty-one years in the world\n",
      "with very little to distress or vex her.\n",
      "\n",
      "She was the youngest of the two daughters of a most affectionate,\n",
      "indulgent father; and had, in consequence of her sister's marriage,\n",
      "been mistress of his house from a very early period.  Her mother\n",
      "had died too long ago for her to have more than an indistinct\n",
      "remembrance of her caresses; and her place had been supplied\n",
      "by an excellent woman as governess, who had fallen little short\n",
      "of a mother in affection.\n",
      "\n",
      "Sixteen years had Miss Taylor been in Mr. Woodhouse's family,\n",
      "less as a governess than a friend, very fond of both daughters,\n",
      "but particularly of Emma.  Between _them_ it was more the intimacy\n",
      "of sisters.  Even before Miss Taylor had ceased to hold the nominal\n",
      "office of governess, the mildness o\n"
     ]
    }
   ],
   "source": [
    "# \"austen-emma.txt\"\n",
    "emma = nltk.corpus.gutenberg.raw(\"austen-emma.txt\")\n",
    "document = emma[:1000]\n",
    "print(document)"
   ]
  },
  {
   "cell_type": "markdown",
   "metadata": {},
   "source": [
    "***Tokenizing***\n",
    "\n",
    "`tokenizing` is for dividing long strings(documents, sentences, etc.) to smaller units for analysis. This unit of string is called `token`."
   ]
  },
  {
   "cell_type": "code",
   "execution_count": 4,
   "metadata": {},
   "outputs": [
    {
     "name": "stdout",
     "output_type": "stream",
     "text": [
      "[len of sent_tokens]: 6 \n",
      "\n",
      "She was the youngest of the two daughters of a most affectionate,\n",
      "indulgent father; and had, in consequence of her sister's marriage,\n",
      "been mistress of his house from a very early period.\n"
     ]
    }
   ],
   "source": [
    "# sentence tokenizer\n",
    "from nltk.tokenize import sent_tokenize\n",
    "\n",
    "print(\"[len of sent_tokens]:\", len(sent_tokenize(document)), \"\\n\")\n",
    "\n",
    "sentence = sent_tokenize(document)[1]\n",
    "print(sentence)"
   ]
  },
  {
   "cell_type": "code",
   "execution_count": 5,
   "metadata": {},
   "outputs": [
    {
     "data": {
      "text/plain": [
       "['She',\n",
       " 'was',\n",
       " 'the',\n",
       " 'youngest',\n",
       " 'of',\n",
       " 'the',\n",
       " 'two',\n",
       " 'daughters',\n",
       " 'of',\n",
       " 'a',\n",
       " 'most',\n",
       " 'affectionate',\n",
       " ',',\n",
       " 'indulgent',\n",
       " 'father',\n",
       " ';',\n",
       " 'and',\n",
       " 'had',\n",
       " ',',\n",
       " 'in',\n",
       " 'consequence',\n",
       " 'of',\n",
       " 'her',\n",
       " 'sister',\n",
       " \"'s\",\n",
       " 'marriage',\n",
       " ',',\n",
       " 'been',\n",
       " 'mistress',\n",
       " 'of',\n",
       " 'his',\n",
       " 'house',\n",
       " 'from',\n",
       " 'a',\n",
       " 'very',\n",
       " 'early',\n",
       " 'period',\n",
       " '.']"
      ]
     },
     "execution_count": 5,
     "metadata": {},
     "output_type": "execute_result"
    }
   ],
   "source": [
    "# word tokenizer\n",
    "from nltk.tokenize import word_tokenize\n",
    "\n",
    "word_tokenize(sentence)"
   ]
  },
  {
   "cell_type": "code",
   "execution_count": 6,
   "metadata": {},
   "outputs": [
    {
     "data": {
      "text/plain": [
       "['She',\n",
       " 'was',\n",
       " 'the',\n",
       " 'youngest',\n",
       " 'of',\n",
       " 'the',\n",
       " 'two',\n",
       " 'daughters',\n",
       " 'of',\n",
       " 'a',\n",
       " 'most',\n",
       " 'affectionate',\n",
       " 'indulgent',\n",
       " 'father',\n",
       " 'and',\n",
       " 'had',\n",
       " 'in',\n",
       " 'consequence',\n",
       " 'of',\n",
       " 'her',\n",
       " 'sister',\n",
       " 's',\n",
       " 'marriage',\n",
       " 'been',\n",
       " 'mistress',\n",
       " 'of',\n",
       " 'his',\n",
       " 'house',\n",
       " 'from',\n",
       " 'a',\n",
       " 'very',\n",
       " 'early',\n",
       " 'period']"
      ]
     },
     "execution_count": 6,
     "metadata": {},
     "output_type": "execute_result"
    }
   ],
   "source": [
    "# regex tokenizer\n",
    "from nltk.tokenize import RegexpTokenizer\n",
    "\n",
    "retokenize = RegexpTokenizer(\"[\\w]+\") # \"\\w\" means characters(alphabet + digit + _)\n",
    "                                      # \"+\" means 1 or more of the preceding expression\n",
    "retokenize.tokenize(sentence)"
   ]
  },
  {
   "cell_type": "markdown",
   "metadata": {},
   "source": [
    "***Morphological Analysis*** (형태소분석)\n",
    "\n",
    "`Morpheme` is **the smallest unit of speech in linguistics that has a certain meaning**. Usually, natural language processing uses morphemes as tokens.\n",
    "- `stemming`: the method of finding the basic morpheme by removing the suffix but it does not find the original form of the word. (어간추출)\n",
    "- `lemmatizing`: the task of unifying multiple words with the same meaning into a dictionary form. (원형복원)\n",
    "- `POS tagging (Part of speech)`: a word that is divided into grammatical functions, forms, and meanings. (품사태깅)\n",
    "  - NNP: singular proper nouns\n",
    "  - VB: verbs\n",
    "  - VBP: verb present\n",
    "  - TO: to preposition\n",
    "  - NN: noun (single or collective)\n",
    "  - DT: coronary"
   ]
  },
  {
   "cell_type": "code",
   "execution_count": 7,
   "metadata": {},
   "outputs": [
    {
     "name": "stdout",
     "output_type": "stream",
     "text": [
      "Porter Stemmer   : ['fli', 'fli', 'fli', 'flew', 'flown']\n",
      "Lancaster Stemmer: ['fly', 'fli', 'fly', 'flew', 'flown']\n"
     ]
    }
   ],
   "source": [
    "# stemming\n",
    "\n",
    "from nltk.stem import PorterStemmer, LancasterStemmer\n",
    "\n",
    "st1 = PorterStemmer()\n",
    "st2 = LancasterStemmer()\n",
    "\n",
    "words = [\"fly\", \"flies\", \"flying\", \"flew\", \"flown\"]\n",
    "\n",
    "print(\"Porter Stemmer   :\", [st1.stem(w) for w in words])\n",
    "print(\"Lancaster Stemmer:\", [st2.stem(w) for w in words])"
   ]
  },
  {
   "cell_type": "code",
   "execution_count": 8,
   "metadata": {},
   "outputs": [
    {
     "data": {
      "text/plain": [
       "['fly', 'fly', 'fly', 'fly', 'fly']"
      ]
     },
     "execution_count": 8,
     "metadata": {},
     "output_type": "execute_result"
    }
   ],
   "source": [
    "# lemmatizing\n",
    "\n",
    "from nltk.stem import WordNetLemmatizer\n",
    "\n",
    "lm = WordNetLemmatizer()\n",
    "[lm.lemmatize(w, pos=\"v\") for w in words]"
   ]
  },
  {
   "cell_type": "code",
   "execution_count": 9,
   "metadata": {},
   "outputs": [
    {
     "data": {
      "text/plain": [
       "[('She', 'PRP'),\n",
       " ('was', 'VBD'),\n",
       " ('the', 'DT'),\n",
       " ('youngest', 'JJS'),\n",
       " ('of', 'IN'),\n",
       " ('the', 'DT'),\n",
       " ('two', 'CD'),\n",
       " ('daughters', 'NNS'),\n",
       " ('of', 'IN'),\n",
       " ('a', 'DT'),\n",
       " ('most', 'RBS'),\n",
       " ('affectionate', 'JJ'),\n",
       " (',', ','),\n",
       " ('indulgent', 'JJ'),\n",
       " ('father', 'NN'),\n",
       " (';', ':'),\n",
       " ('and', 'CC'),\n",
       " ('had', 'VBD'),\n",
       " (',', ','),\n",
       " ('in', 'IN'),\n",
       " ('consequence', 'NN'),\n",
       " ('of', 'IN'),\n",
       " ('her', 'PRP$'),\n",
       " ('sister', 'NN'),\n",
       " (\"'s\", 'POS'),\n",
       " ('marriage', 'NN'),\n",
       " (',', ','),\n",
       " ('been', 'VBN'),\n",
       " ('mistress', 'NN'),\n",
       " ('of', 'IN'),\n",
       " ('his', 'PRP$'),\n",
       " ('house', 'NN'),\n",
       " ('from', 'IN'),\n",
       " ('a', 'DT'),\n",
       " ('very', 'RB'),\n",
       " ('early', 'JJ'),\n",
       " ('period', 'NN'),\n",
       " ('.', '.')]"
      ]
     },
     "execution_count": 9,
     "metadata": {},
     "output_type": "execute_result"
    }
   ],
   "source": [
    "# pos tagging\n",
    "from nltk.tag import pos_tag\n",
    "\n",
    "tagged_list = pos_tag(word_tokenize(sentence))\n",
    "tagged_list"
   ]
  },
  {
   "cell_type": "code",
   "execution_count": 10,
   "metadata": {},
   "outputs": [
    {
     "name": "stdout",
     "output_type": "stream",
     "text": [
      "NNP: noun, proper, singular\n",
      "    Motown Venneboerger Czestochwa Ranzer Conchita Trumplane Christos\n",
      "    Oceanside Escobar Kreisler Sawyer Cougar Yvette Ervin ODI Darryl CTCA\n",
      "    Shannon A.K.C. Meltex Liverpool ...\n"
     ]
    }
   ],
   "source": [
    "# find description of tags\n",
    "nltk.help.upenn_tagset(\"NNP\")"
   ]
  },
  {
   "cell_type": "code",
   "execution_count": 11,
   "metadata": {},
   "outputs": [
    {
     "data": {
      "text/plain": [
       "['father', 'consequence', 'sister', 'marriage', 'mistress', 'house', 'period']"
      ]
     },
     "execution_count": 11,
     "metadata": {},
     "output_type": "execute_result"
    }
   ],
   "source": [
    "# extract \"NN\" words\n",
    "nouns_list = [t[0] for t in tagged_list if t[1] == \"NN\"]\n",
    "nouns_list"
   ]
  },
  {
   "cell_type": "markdown",
   "metadata": {},
   "source": [
    "***Stopwords***\n",
    "\n",
    "Stopwords are words that **do not have meaning** in natural language processing. For example articles, prepositions, conjunctions.. (관사, 전치사, 접속사 ..)\n",
    "- articles: a, an, the\n",
    "- prepositions: in, at, on, from, to, for, into, through...\n",
    "- confuntions: until, before, after, when, while..."
   ]
  },
  {
   "cell_type": "code",
   "execution_count": 12,
   "metadata": {},
   "outputs": [
    {
     "name": "stdout",
     "output_type": "stream",
     "text": [
      "She was the youngest of the two daughters of a most affectionate,\n",
      "indulgent father; and had, in consequence of her sister's marriage,\n",
      "been mistress of his house from a very early period.\n"
     ]
    }
   ],
   "source": [
    "print(sentence)"
   ]
  },
  {
   "cell_type": "code",
   "execution_count": 13,
   "metadata": {},
   "outputs": [
    {
     "name": "stdout",
     "output_type": "stream",
     "text": [
      "only word tokenize >>>: 38 \n",
      " ['She', 'was', 'the', 'youngest', 'of', 'the', 'two', 'daughters', 'of', 'a', 'most', 'affectionate', ',', 'indulgent', 'father', ';', 'and', 'had', ',', 'in', 'consequence', 'of', 'her', 'sister', \"'s\", 'marriage', ',', 'been', 'mistress', 'of', 'his', 'house', 'from', 'a', 'very', 'early', 'period', '.'] \n",
      "\n",
      "stopwords applied  >>>: 20 \n",
      " ['She', 'youngest', 'two', 'daughters', 'affectionate', ',', 'indulgent', 'father', ';', ',', 'consequence', 'sister', \"'s\", 'marriage', ',', 'mistress', 'house', 'early', 'period', '.']\n"
     ]
    }
   ],
   "source": [
    "from nltk.corpus import stopwords\n",
    "\n",
    "eng_stopwords = set(stopwords.words('english'))\n",
    "tokens = word_tokenize(sentence)\n",
    "new_tokens = [word for word in tokens if word not in eng_stopwords]\n",
    "\n",
    "print(\"only word tokenize >>>:\", len(tokens), \"\\n\", tokens, \"\\n\")\n",
    "print(\"stopwords applied  >>>:\", len(new_tokens), \"\\n\", new_tokens)"
   ]
  },
  {
   "cell_type": "code",
   "execution_count": 14,
   "metadata": {},
   "outputs": [
    {
     "name": "stdout",
     "output_type": "stream",
     "text": [
      "new stopwords result:  15 \n",
      " ['She', 'youngest', 'two', 'daughters', 'affectionate', 'indulgent', 'father', 'consequence', 'sister', \"'s\", 'marriage', 'mistress', 'house', 'early', 'period']\n"
     ]
    }
   ],
   "source": [
    "# add more stopwords: punctuation marks\n",
    "eng_stopwords = set(stopwords.words('english') + [\".\", \",\", \"?\", \"!\", \":\", \";\"])\n",
    "new_new_tokens = [word for word in tokens if word not in eng_stopwords]\n",
    "\n",
    "print(\"new stopwords result: \", len(new_new_tokens), \"\\n\", new_new_tokens)"
   ]
  },
  {
   "cell_type": "markdown",
   "metadata": {},
   "source": [
    "***Ngrams***\n",
    "\n",
    "Ngrams are a method of **constructing contextual information** to creatre Probabilistic Language Models. in other words, it determines how many words to create a context.\n",
    "\n",
    "- unigram\n",
    "  - $P(w_1, w_2, \\ldots, w_m) = \\prod_{i=1}^m P(w_i)$\n",
    "- bigrams\n",
    "  - $P(w_1, w_2, \\ldots, w_m) = P(w_1) \\prod_{i=2}^{m} P(w_{i}\\;|\\; w_{i-1})$\n",
    "- ngrams\n",
    "  - $P(w_1, w_2, \\ldots, w_m) = P(w_1) \\prod_{i=n}^{m} P(w_{i}\\;|\\; w_{i-1}, \\ldots, w_{i-n})$"
   ]
  },
  {
   "cell_type": "code",
   "execution_count": 15,
   "metadata": {},
   "outputs": [
    {
     "name": "stdout",
     "output_type": "stream",
     "text": [
      "\n",
      "bigram\n",
      "('She', 'was')\n",
      "('was', 'the')\n",
      "('the', 'youngest')\n",
      "('youngest', 'of')\n",
      "('of', 'the')\n",
      "('the', 'two')\n",
      "('two', 'daughters')\n",
      "('daughters', 'of')\n",
      "('of', 'a')\n",
      "\n",
      "trigram\n",
      "('She', 'was', 'the')\n",
      "('was', 'the', 'youngest')\n",
      "('the', 'youngest', 'of')\n",
      "('youngest', 'of', 'the')\n",
      "('of', 'the', 'two')\n",
      "('the', 'two', 'daughters')\n",
      "('two', 'daughters', 'of')\n",
      "('daughters', 'of', 'a')\n"
     ]
    }
   ],
   "source": [
    "from nltk import bigrams\n",
    "from nltk.util import ngrams\n",
    "\n",
    "bigram = bigrams(tokens[:10])\n",
    "trigram = ngrams(tokens[:10], 3)\n",
    "\n",
    "print(\"\\nbigram\")\n",
    "for t in bigram:\n",
    "    print(t)\n",
    "    \n",
    "print(\"\\ntrigram\")\n",
    "for t in trigram:\n",
    "    print(t)"
   ]
  },
  {
   "cell_type": "markdown",
   "metadata": {},
   "source": [
    "***Conditional Probability***\n",
    "\n",
    "`ConditionalFreqDist`\n",
    " - measure the frequency of words in sentence"
   ]
  },
  {
   "cell_type": "code",
   "execution_count": 16,
   "metadata": {},
   "outputs": [
    {
     "name": "stdout",
     "output_type": "stream",
     "text": [
      "191785 over\n"
     ]
    }
   ],
   "source": [
    "emma_tokens = word_tokenize(emma)\n",
    "print(len(emma_tokens), emma_tokens[2021])"
   ]
  },
  {
   "cell_type": "code",
   "execution_count": 17,
   "metadata": {},
   "outputs": [],
   "source": [
    "# measure the frequency of words\n",
    "from nltk.probability import ConditionalFreqDist\n",
    "\n",
    "cfdist = ConditionalFreqDist()\n",
    "\n",
    "for word in emma_tokens:\n",
    "    condition = len(word)\n",
    "    cfdist[condition][word] += 1"
   ]
  },
  {
   "cell_type": "code",
   "execution_count": 18,
   "metadata": {},
   "outputs": [],
   "source": [
    "# An equivalent way:\n",
    "cfdist = ConditionalFreqDist((len(word), word) for word in emma_tokens)"
   ]
  },
  {
   "cell_type": "code",
   "execution_count": 19,
   "metadata": {},
   "outputs": [
    {
     "data": {
      "text/plain": [
       "[('the', 4844), ('and', 4653), ('was', 2383), ('her', 2360), ('not', 2242)]"
      ]
     },
     "execution_count": 19,
     "metadata": {},
     "output_type": "execute_result"
    }
   ],
   "source": [
    "# what are most 5 common words with len=3\n",
    "cfdist[3].most_common(5)"
   ]
  },
  {
   "cell_type": "code",
   "execution_count": 20,
   "metadata": {},
   "outputs": [
    {
     "data": {
      "text/plain": [
       "[('could', 824),\n",
       " ('would', 813),\n",
       " ('which', 552),\n",
       " ('there', 419),\n",
       " ('every', 398)]"
      ]
     },
     "execution_count": 20,
     "metadata": {},
     "output_type": "execute_result"
    }
   ],
   "source": [
    "# what are most 5 common words with len=3\n",
    "cfdist[5].most_common(5)"
   ]
  },
  {
   "cell_type": "code",
   "execution_count": 21,
   "metadata": {},
   "outputs": [],
   "source": [
    "# make another CFDist using bigram tokens\n",
    "bigram = bigrams(emma_tokens)\n",
    "cfdist = ConditionalFreqDist((t[0], t[1]) for t in bigram)"
   ]
  },
  {
   "cell_type": "code",
   "execution_count": 22,
   "metadata": {},
   "outputs": [
    {
     "data": {
      "text/plain": [
       "[('was', 110), ('had', 78), ('could', 33), ('is', 28), ('would', 25)]"
      ]
     },
     "execution_count": 22,
     "metadata": {},
     "output_type": "execute_result"
    }
   ],
   "source": [
    "# what are most 5 common words right after \"She\"\n",
    "cfdist[\"She\"].most_common(5)"
   ]
  },
  {
   "cell_type": "code",
   "execution_count": 23,
   "metadata": {},
   "outputs": [
    {
     "data": {
      "text/plain": [
       "[(\"''\", 1157), ('I', 570), ('``', 416), ('She', 413), ('He', 303)]"
      ]
     },
     "execution_count": 23,
     "metadata": {},
     "output_type": "execute_result"
    }
   ],
   "source": [
    "# what are most 5 common words right after \".\"\n",
    "cfdist[\".\"].most_common(5)"
   ]
  },
  {
   "cell_type": "code",
   "execution_count": 24,
   "metadata": {},
   "outputs": [
    {
     "data": {
      "image/png": "[encoded data removed]",
      "text/plain": [
       "<Figure size 1080x360 with 1 Axes>"
      ]
     },
     "metadata": {
      "needs_background": "light"
     },
     "output_type": "display_data"
    }
   ],
   "source": [
    "import matplotlib.pyplot as plt\n",
    "\n",
    "plt.figure(figsize=(15, 5))\n",
    "cfdist[\"She\"].plot(7, title=\"After 'She'\");"
   ]
  },
  {
   "cell_type": "code",
   "execution_count": 25,
   "metadata": {},
   "outputs": [
    {
     "data": {
      "text/plain": [
       "[('was', 110), ('had', 78), ('could', 33), ('is', 28), ('would', 25)]"
      ]
     },
     "execution_count": 25,
     "metadata": {},
     "output_type": "execute_result"
    }
   ],
   "source": [
    "# notice that \"She\" and \"she\" are different because we didn't have case integration\n",
    "cfdist[\"She\"].most_common(5)"
   ]
  },
  {
   "cell_type": "code",
   "execution_count": 26,
   "metadata": {},
   "outputs": [
    {
     "data": {
      "text/plain": [
       "[('had', 254), ('was', 218), ('could', 138), ('is', 94), ('would', 69)]"
      ]
     },
     "execution_count": 26,
     "metadata": {},
     "output_type": "execute_result"
    }
   ],
   "source": [
    "cfdist[\"she\"].most_common(5)"
   ]
  },
  {
   "cell_type": "markdown",
   "metadata": {},
   "source": [
    "`ConditionalProbDist`\n",
    " - estimate conditional probabilities\n",
    " - $P(w\\;|\\; w_c) = \\dfrac{C((w_c, w))}{C((w_c))}$"
   ]
  },
  {
   "cell_type": "code",
   "execution_count": 27,
   "metadata": {},
   "outputs": [],
   "source": [
    "# Estimate Conditional Probabilities\n",
    "from nltk.probability import ConditionalProbDist, MLEProbDist\n",
    "\n",
    "cpdist = ConditionalProbDist(cfdist, MLEProbDist)"
   ]
  },
  {
   "cell_type": "code",
   "execution_count": 28,
   "metadata": {},
   "outputs": [
    {
     "data": {
      "text/plain": [
       "dict_keys(['was', 'recalled', 'had', 'dearly', 'felt', 'knew', 'would', 'lived', 'loved', 'believed', ',', 'then', 'thought', 'feared', 'is', 'means', 'will', 'inherits', 'knows', 'always', 'thinks', 'played', 'gave', 'must', 'could', 'read', 'paused', 'has', 'desired', 'did', 'cast', 'and', 'ran', 'pondered', 'understood', 'gained', 'hardly', 'shewed', 'hoped', 'allowed', 'heard', 'does', 'should', 'wanted', 'tried', 'looked', 'remembered', 'need', 'might', 'stopt', 'admired', 'now', 'went', 'never', 'got', 'determined', 'often', 'regained', 'certainly', 'seemed', 'seems', 'exerted', 'wished', 'brought', 'meant', 'came', 'opened', 'blessed', 'who', 'plays', 'appeared', 'owned', 'loves', 'followed', 'listened', 'said', 'introduced', 'questioned', 'saw', 'doubted', 'says', 'restrained', 'speaks', 'calls', 'comforted', 'suspected', 'watched', 'liked', 'hesitated', 'depended', 'held', 'merely', 'spoke', 'promised', 'joined', 'smiled', 'laughed', 'still', 'recovered', 'continued', 'resolved', 'asked', 'stopped', 'met', 'touched', 'wrote', 'talked', 'bitterly', 'longed', 'considered', 'deserves', 'supposed', 'made', 'even', 'rose', 'received', 'may', 'frequently', 'gives', 'absolutely', 'closed', 'soon', 'ought', 'checked', 'coloured', 'hears', 'proved'])"
      ]
     },
     "execution_count": 28,
     "metadata": {},
     "output_type": "execute_result"
    }
   ],
   "source": [
    "# what are the words that follow \"She\"\n",
    "cpdist[\"She\"].samples()"
   ]
  },
  {
   "cell_type": "code",
   "execution_count": 29,
   "metadata": {},
   "outputs": [
    {
     "data": {
      "text/plain": [
       "'was'"
      ]
     },
     "execution_count": 29,
     "metadata": {},
     "output_type": "execute_result"
    }
   ],
   "source": [
    "cpdist[\"She\"].max()"
   ]
  },
  {
   "cell_type": "code",
   "execution_count": 30,
   "metadata": {},
   "outputs": [
    {
     "data": {
      "text/plain": [
       "0.11575091575091576"
      ]
     },
     "execution_count": 30,
     "metadata": {},
     "output_type": "execute_result"
    }
   ],
   "source": [
    "cpdist[\"he\"].prob(\"was\")"
   ]
  },
  {
   "cell_type": "code",
   "execution_count": 31,
   "metadata": {},
   "outputs": [
    {
     "data": {
      "text/plain": [
       "0.017793594306049824"
      ]
     },
     "execution_count": 31,
     "metadata": {},
     "output_type": "execute_result"
    }
   ],
   "source": [
    "cpdist[\"She\"].prob(\"has\")"
   ]
  },
  {
   "cell_type": "code",
   "execution_count": 32,
   "metadata": {},
   "outputs": [
    {
     "data": {
      "text/plain": [
       "0.0498220640569395"
      ]
     },
     "execution_count": 32,
     "metadata": {},
     "output_type": "execute_result"
    }
   ],
   "source": [
    "cpdist[\"She\"].prob(\"is\")"
   ]
  },
  {
   "cell_type": "code",
   "execution_count": 33,
   "metadata": {},
   "outputs": [
    {
     "data": {
      "text/plain": [
       "0.0035587188612099642"
      ]
     },
     "execution_count": 33,
     "metadata": {},
     "output_type": "execute_result"
    }
   ],
   "source": [
    "cpdist[\"She\"].prob(\"does\")"
   ]
  },
  {
   "cell_type": "markdown",
   "metadata": {},
   "source": [
    "### Scikit-Learn Text processing modules\n",
    "\n",
    "[***The Bag of Words representation (BOW)***](https://scikit-learn.org/stable/modules/feature_extraction.html#the-bag-of-words-representation)\n",
    "\n",
    "scikit-learn provides utilities for the most common ways to extract numerical features from text content, namely:\n",
    "- **tokenizing** strings and giving an integer id for each possible token, for instance by using white-spaces and punctuation as token separators.\n",
    "- **counting** the occurrences of tokens in each document.\n",
    "- **normalizing and weighting** with diminishing importance tokens that occur in the majority of samples / documents.\n",
    "\n",
    "In this scheme, features and samples are defined as follows:\n",
    "- each **individual token *occurrence* frequency** (normalized or not) is treated as a **feature**.\n",
    "- the vector of all the token frequencies for a given **document** is considered a multivariate **sample**.\n",
    "\n",
    "A corpus of documents can thus be represented by a matrix with one row per document and one column per token (e.g. word) occurring in the corpus.\n",
    "\n",
    "We call **vectorization** the general process of turning a collection of text documents into numerical feature vectors. This specific strategy (tokenization, counting and normalization) is called the **Bag of Words** or “Bag of n-grams” representation. Documents are described by word occurrences while completely ignoring the relative position information of the words in the document.\n",
    "\n",
    "**Sparsity:**\n",
    "\n",
    "As most documents will typically use a very small subset of the words used in the corpus, the resulting matrix will have many feature values that are **zeros** (typically more than **99%** of them).\n",
    "\n",
    "For instance a collection of 10,000 short text documents (such as emails) will use a vocabulary with a size in the order of 100,000 unique words in total while each document will use 100 to 1000 unique words individually.\n",
    "\n",
    "\n",
    "**Features**:\n",
    " - DictVectorizer\n",
    " - CountVectorizer\n",
    " - TfidfVectorizer\n",
    " - HashingVectorizer"
   ]
  },
  {
   "cell_type": "markdown",
   "metadata": {},
   "source": [
    "`DictVectorizer`\n",
    "\n",
    "It inputs the dictionary information indicating the frequency of the occurence of words in the document and convert it into a BOW."
   ]
  },
  {
   "cell_type": "code",
   "execution_count": 34,
   "metadata": {},
   "outputs": [
    {
     "data": {
      "text/plain": [
       "['the fox jumps.',\n",
       " 'the quick fox jumps over.',\n",
       " 'the quick quick brown fox jumps.',\n",
       " 'the some lazy dog.',\n",
       " 'the quick fox fox jumps jumps lazy dog dog']"
      ]
     },
     "execution_count": 34,
     "metadata": {},
     "output_type": "execute_result"
    }
   ],
   "source": [
    "# a document with 4 samples\n",
    "document = \"\"\"the fox jumps.\n",
    "the quick fox jumps over.\n",
    "the quick quick brown fox jumps.\n",
    "the some lazy dog.\n",
    "the quick fox fox jumps jumps lazy dog dog\"\"\"\n",
    "\n",
    "samples = sent_tokenize(document)\n",
    "samples"
   ]
  },
  {
   "cell_type": "code",
   "execution_count": 35,
   "metadata": {},
   "outputs": [],
   "source": [
    "# count the frequency of each word in each sample\n",
    "from collections import Counter\n",
    "\n",
    "token_list = []\n",
    "counts = []\n",
    "for sample in samples:\n",
    "    # tokenize and apply stopwords\n",
    "    tokens = [token for token in word_tokenize(sample) if token not in eng_stopwords]\n",
    "    token_list.append(tokens)\n",
    "    counts.append(Counter(tokens))"
   ]
  },
  {
   "cell_type": "code",
   "execution_count": 36,
   "metadata": {},
   "outputs": [
    {
     "data": {
      "text/plain": [
       "[['fox', 'jumps'],\n",
       " ['quick', 'fox', 'jumps'],\n",
       " ['quick', 'quick', 'brown', 'fox', 'jumps'],\n",
       " ['lazy', 'dog'],\n",
       " ['quick', 'fox', 'fox', 'jumps', 'jumps', 'lazy', 'dog', 'dog']]"
      ]
     },
     "execution_count": 36,
     "metadata": {},
     "output_type": "execute_result"
    }
   ],
   "source": [
    "token_list"
   ]
  },
  {
   "cell_type": "code",
   "execution_count": 37,
   "metadata": {},
   "outputs": [
    {
     "data": {
      "text/plain": [
       "[Counter({'fox': 1, 'jumps': 1}),\n",
       " Counter({'quick': 1, 'fox': 1, 'jumps': 1}),\n",
       " Counter({'quick': 2, 'brown': 1, 'fox': 1, 'jumps': 1}),\n",
       " Counter({'lazy': 1, 'dog': 1}),\n",
       " Counter({'quick': 1, 'fox': 2, 'jumps': 2, 'lazy': 1, 'dog': 2})]"
      ]
     },
     "execution_count": 37,
     "metadata": {},
     "output_type": "execute_result"
    }
   ],
   "source": [
    "counts"
   ]
  },
  {
   "cell_type": "code",
   "execution_count": 38,
   "metadata": {},
   "outputs": [
    {
     "name": "stdout",
     "output_type": "stream",
     "text": [
      "['brown', 'dog', 'fox', 'jumps', 'lazy', 'quick']\n",
      "[[0. 0. 1. 1. 0. 0.]\n",
      " [0. 0. 1. 1. 0. 1.]\n",
      " [1. 0. 1. 1. 0. 2.]\n",
      " [0. 1. 0. 0. 1. 0.]\n",
      " [0. 2. 2. 2. 1. 1.]]\n"
     ]
    }
   ],
   "source": [
    "from sklearn.feature_extraction import DictVectorizer\n",
    "\n",
    "dict_vect = DictVectorizer(sparse=False)\n",
    "X = dict_vect.fit_transform(counts)\n",
    "\n",
    "print(dict_vect.feature_names_)\n",
    "print(X)"
   ]
  },
  {
   "cell_type": "code",
   "execution_count": 39,
   "metadata": {},
   "outputs": [
    {
     "data": {
      "text/html": [
       "<div>\n",
       "<style scoped>\n",
       "    .dataframe tbody tr th:only-of-type {\n",
       "        vertical-align: middle;\n",
       "    }\n",
       "\n",
       "    .dataframe tbody tr th {\n",
       "        vertical-align: top;\n",
       "    }\n",
       "\n",
       "    .dataframe thead th {\n",
       "        text-align: right;\n",
       "    }\n",
       "</style>\n",
       "<table border=\"1\" class=\"dataframe\">\n",
       "  <thead>\n",
       "    <tr style=\"text-align: right;\">\n",
       "      <th></th>\n",
       "      <th>brown</th>\n",
       "      <th>dog</th>\n",
       "      <th>fox</th>\n",
       "      <th>jumps</th>\n",
       "      <th>lazy</th>\n",
       "      <th>quick</th>\n",
       "    </tr>\n",
       "  </thead>\n",
       "  <tbody>\n",
       "    <tr>\n",
       "      <th>0</th>\n",
       "      <td>0.0</td>\n",
       "      <td>0.0</td>\n",
       "      <td>1.0</td>\n",
       "      <td>1.0</td>\n",
       "      <td>0.0</td>\n",
       "      <td>0.0</td>\n",
       "    </tr>\n",
       "    <tr>\n",
       "      <th>1</th>\n",
       "      <td>0.0</td>\n",
       "      <td>0.0</td>\n",
       "      <td>1.0</td>\n",
       "      <td>1.0</td>\n",
       "      <td>0.0</td>\n",
       "      <td>1.0</td>\n",
       "    </tr>\n",
       "    <tr>\n",
       "      <th>2</th>\n",
       "      <td>1.0</td>\n",
       "      <td>0.0</td>\n",
       "      <td>1.0</td>\n",
       "      <td>1.0</td>\n",
       "      <td>0.0</td>\n",
       "      <td>2.0</td>\n",
       "    </tr>\n",
       "    <tr>\n",
       "      <th>3</th>\n",
       "      <td>0.0</td>\n",
       "      <td>1.0</td>\n",
       "      <td>0.0</td>\n",
       "      <td>0.0</td>\n",
       "      <td>1.0</td>\n",
       "      <td>0.0</td>\n",
       "    </tr>\n",
       "    <tr>\n",
       "      <th>4</th>\n",
       "      <td>0.0</td>\n",
       "      <td>2.0</td>\n",
       "      <td>2.0</td>\n",
       "      <td>2.0</td>\n",
       "      <td>1.0</td>\n",
       "      <td>1.0</td>\n",
       "    </tr>\n",
       "  </tbody>\n",
       "</table>\n",
       "</div>"
      ],
      "text/plain": [
       "   brown  dog  fox  jumps  lazy  quick\n",
       "0    0.0  0.0  1.0    1.0   0.0    0.0\n",
       "1    0.0  0.0  1.0    1.0   0.0    1.0\n",
       "2    1.0  0.0  1.0    1.0   0.0    2.0\n",
       "3    0.0  1.0  0.0    0.0   1.0    0.0\n",
       "4    0.0  2.0  2.0    2.0   1.0    1.0"
      ]
     },
     "execution_count": 39,
     "metadata": {},
     "output_type": "execute_result"
    }
   ],
   "source": [
    "import pandas as pd\n",
    "\n",
    "df = pd.DataFrame(X, columns=dict_vect.feature_names_)\n",
    "df"
   ]
  },
  {
   "cell_type": "code",
   "execution_count": 40,
   "metadata": {},
   "outputs": [
    {
     "data": {
      "text/plain": [
       "array([[10.,  0.,  5.,  0.,  0.,  0.]])"
      ]
     },
     "execution_count": 40,
     "metadata": {},
     "output_type": "execute_result"
    }
   ],
   "source": [
    "# it matches each value to BOW\n",
    "dict_vect.transform({'brown':10, 'fox':5})"
   ]
  },
  {
   "cell_type": "markdown",
   "metadata": {},
   "source": [
    "`CountVectorizer`\n",
    "\n",
    "simpler version of `DictVectorizer`\n",
    "\n",
    "1. Convert the document to a token list\n",
    "2. Count the frequency of token occurrence in each document\n",
    "3. Convert each document to a BOW vector"
   ]
  },
  {
   "cell_type": "code",
   "execution_count": 41,
   "metadata": {},
   "outputs": [
    {
     "data": {
      "text/plain": [
       "['the fox jumps.',\n",
       " 'the quick fox jumps over.',\n",
       " 'the quick quick brown fox jumps.',\n",
       " 'the some lazy dog.',\n",
       " 'the quick fox fox jumps jumps lazy dog dog']"
      ]
     },
     "execution_count": 41,
     "metadata": {},
     "output_type": "execute_result"
    }
   ],
   "source": [
    "samples"
   ]
  },
  {
   "cell_type": "code",
   "execution_count": 42,
   "metadata": {},
   "outputs": [
    {
     "name": "stdout",
     "output_type": "stream",
     "text": [
      "['brown', 'dog', 'fox', 'jumps', 'lazy', 'quick']\n",
      "[[0 0 1 1 0 0]\n",
      " [0 0 1 1 0 1]\n",
      " [1 0 1 1 0 2]\n",
      " [0 1 0 0 1 0]\n",
      " [0 2 2 2 1 1]]\n"
     ]
    }
   ],
   "source": [
    "from sklearn.feature_extraction.text import CountVectorizer\n",
    "\n",
    "count_vect = CountVectorizer(stop_words=eng_stopwords)\n",
    "count_vect.fit(samples)\n",
    "X = count_vect.transform(samples).toarray()\n",
    "\n",
    "print(count_vect.get_feature_names())\n",
    "print(X)"
   ]
  },
  {
   "cell_type": "code",
   "execution_count": 43,
   "metadata": {},
   "outputs": [
    {
     "name": "stdout",
     "output_type": "stream",
     "text": [
      "[1 3 5 5 2 4]\n"
     ]
    },
    {
     "data": {
      "text/html": [
       "<div>\n",
       "<style scoped>\n",
       "    .dataframe tbody tr th:only-of-type {\n",
       "        vertical-align: middle;\n",
       "    }\n",
       "\n",
       "    .dataframe tbody tr th {\n",
       "        vertical-align: top;\n",
       "    }\n",
       "\n",
       "    .dataframe thead th {\n",
       "        text-align: right;\n",
       "    }\n",
       "</style>\n",
       "<table border=\"1\" class=\"dataframe\">\n",
       "  <thead>\n",
       "    <tr style=\"text-align: right;\">\n",
       "      <th></th>\n",
       "      <th>brown</th>\n",
       "      <th>dog</th>\n",
       "      <th>fox</th>\n",
       "      <th>jumps</th>\n",
       "      <th>lazy</th>\n",
       "      <th>quick</th>\n",
       "    </tr>\n",
       "  </thead>\n",
       "  <tbody>\n",
       "    <tr>\n",
       "      <th>0</th>\n",
       "      <td>0</td>\n",
       "      <td>0</td>\n",
       "      <td>1</td>\n",
       "      <td>1</td>\n",
       "      <td>0</td>\n",
       "      <td>0</td>\n",
       "    </tr>\n",
       "    <tr>\n",
       "      <th>1</th>\n",
       "      <td>0</td>\n",
       "      <td>0</td>\n",
       "      <td>1</td>\n",
       "      <td>1</td>\n",
       "      <td>0</td>\n",
       "      <td>1</td>\n",
       "    </tr>\n",
       "    <tr>\n",
       "      <th>2</th>\n",
       "      <td>1</td>\n",
       "      <td>0</td>\n",
       "      <td>1</td>\n",
       "      <td>1</td>\n",
       "      <td>0</td>\n",
       "      <td>2</td>\n",
       "    </tr>\n",
       "    <tr>\n",
       "      <th>3</th>\n",
       "      <td>0</td>\n",
       "      <td>1</td>\n",
       "      <td>0</td>\n",
       "      <td>0</td>\n",
       "      <td>1</td>\n",
       "      <td>0</td>\n",
       "    </tr>\n",
       "    <tr>\n",
       "      <th>4</th>\n",
       "      <td>0</td>\n",
       "      <td>2</td>\n",
       "      <td>2</td>\n",
       "      <td>2</td>\n",
       "      <td>1</td>\n",
       "      <td>1</td>\n",
       "    </tr>\n",
       "  </tbody>\n",
       "</table>\n",
       "</div>"
      ],
      "text/plain": [
       "   brown  dog  fox  jumps  lazy  quick\n",
       "0      0    0    1      1     0      0\n",
       "1      0    0    1      1     0      1\n",
       "2      1    0    1      1     0      2\n",
       "3      0    1    0      0     1      0\n",
       "4      0    2    2      2     1      1"
      ]
     },
     "execution_count": 43,
     "metadata": {},
     "output_type": "execute_result"
    }
   ],
   "source": [
    "print(X.sum(axis=0))\n",
    "pd.DataFrame(X, columns=count_vect.get_feature_names())"
   ]
  },
  {
   "cell_type": "code",
   "execution_count": 44,
   "metadata": {},
   "outputs": [
    {
     "data": {
      "text/plain": [
       "array([[0, 0, 1, 1, 0, 0]])"
      ]
     },
     "execution_count": 44,
     "metadata": {},
     "output_type": "execute_result"
    }
   ],
   "source": [
    "count_vect.transform([\"fox jumps again\"]).toarray()"
   ]
  },
  {
   "cell_type": "code",
   "execution_count": 45,
   "metadata": {},
   "outputs": [
    {
     "data": {
      "text/plain": [
       "array([[0, 0, 0, 0, 0, 0]])"
      ]
     },
     "execution_count": 45,
     "metadata": {},
     "output_type": "execute_result"
    }
   ],
   "source": [
    "count_vect.transform([\"big lion runs fast\"]).toarray()"
   ]
  },
  {
   "cell_type": "code",
   "execution_count": 46,
   "metadata": {},
   "outputs": [
    {
     "data": {
      "text/html": [
       "<div>\n",
       "<style scoped>\n",
       "    .dataframe tbody tr th:only-of-type {\n",
       "        vertical-align: middle;\n",
       "    }\n",
       "\n",
       "    .dataframe tbody tr th {\n",
       "        vertical-align: top;\n",
       "    }\n",
       "\n",
       "    .dataframe thead th {\n",
       "        text-align: right;\n",
       "    }\n",
       "</style>\n",
       "<table border=\"1\" class=\"dataframe\">\n",
       "  <thead>\n",
       "    <tr style=\"text-align: right;\">\n",
       "      <th></th>\n",
       "      <th>brown fox</th>\n",
       "      <th>dog dog</th>\n",
       "      <th>fox fox</th>\n",
       "      <th>fox jumps</th>\n",
       "      <th>jumps jumps</th>\n",
       "      <th>jumps lazy</th>\n",
       "      <th>lazy dog</th>\n",
       "      <th>quick brown</th>\n",
       "      <th>quick fox</th>\n",
       "      <th>quick quick</th>\n",
       "    </tr>\n",
       "  </thead>\n",
       "  <tbody>\n",
       "    <tr>\n",
       "      <th>0</th>\n",
       "      <td>0</td>\n",
       "      <td>0</td>\n",
       "      <td>0</td>\n",
       "      <td>1</td>\n",
       "      <td>0</td>\n",
       "      <td>0</td>\n",
       "      <td>0</td>\n",
       "      <td>0</td>\n",
       "      <td>0</td>\n",
       "      <td>0</td>\n",
       "    </tr>\n",
       "    <tr>\n",
       "      <th>1</th>\n",
       "      <td>0</td>\n",
       "      <td>0</td>\n",
       "      <td>0</td>\n",
       "      <td>1</td>\n",
       "      <td>0</td>\n",
       "      <td>0</td>\n",
       "      <td>0</td>\n",
       "      <td>0</td>\n",
       "      <td>1</td>\n",
       "      <td>0</td>\n",
       "    </tr>\n",
       "    <tr>\n",
       "      <th>2</th>\n",
       "      <td>1</td>\n",
       "      <td>0</td>\n",
       "      <td>0</td>\n",
       "      <td>1</td>\n",
       "      <td>0</td>\n",
       "      <td>0</td>\n",
       "      <td>0</td>\n",
       "      <td>1</td>\n",
       "      <td>0</td>\n",
       "      <td>1</td>\n",
       "    </tr>\n",
       "    <tr>\n",
       "      <th>3</th>\n",
       "      <td>0</td>\n",
       "      <td>0</td>\n",
       "      <td>0</td>\n",
       "      <td>0</td>\n",
       "      <td>0</td>\n",
       "      <td>0</td>\n",
       "      <td>1</td>\n",
       "      <td>0</td>\n",
       "      <td>0</td>\n",
       "      <td>0</td>\n",
       "    </tr>\n",
       "    <tr>\n",
       "      <th>4</th>\n",
       "      <td>0</td>\n",
       "      <td>1</td>\n",
       "      <td>1</td>\n",
       "      <td>1</td>\n",
       "      <td>1</td>\n",
       "      <td>1</td>\n",
       "      <td>1</td>\n",
       "      <td>0</td>\n",
       "      <td>1</td>\n",
       "      <td>0</td>\n",
       "    </tr>\n",
       "  </tbody>\n",
       "</table>\n",
       "</div>"
      ],
      "text/plain": [
       "   brown fox  dog dog  fox fox  fox jumps  jumps jumps  jumps lazy  lazy dog  \\\n",
       "0          0        0        0          1            0           0         0   \n",
       "1          0        0        0          1            0           0         0   \n",
       "2          1        0        0          1            0           0         0   \n",
       "3          0        0        0          0            0           0         1   \n",
       "4          0        1        1          1            1           1         1   \n",
       "\n",
       "   quick brown  quick fox  quick quick  \n",
       "0            0          0            0  \n",
       "1            0          1            0  \n",
       "2            1          0            1  \n",
       "3            0          0            0  \n",
       "4            0          1            0  "
      ]
     },
     "execution_count": 46,
     "metadata": {},
     "output_type": "execute_result"
    }
   ],
   "source": [
    "# ngram_range = (min_n, max_n)\n",
    "# (1, 1) = only unigrams\n",
    "# (1, 2) = unigram & bigram\n",
    "# (2, 2) = only bigrams\n",
    "count_vect2 = CountVectorizer(stop_words=eng_stopwords, ngram_range=(2, 2))\n",
    "X = count_vect2.fit_transform(samples).toarray()\n",
    "\n",
    "pd.DataFrame(X, columns=count_vect2.get_feature_names())"
   ]
  },
  {
   "cell_type": "code",
   "execution_count": 47,
   "metadata": {},
   "outputs": [
    {
     "name": "stdout",
     "output_type": "stream",
     "text": [
      "[5 5 4]\n"
     ]
    },
    {
     "data": {
      "text/html": [
       "<div>\n",
       "<style scoped>\n",
       "    .dataframe tbody tr th:only-of-type {\n",
       "        vertical-align: middle;\n",
       "    }\n",
       "\n",
       "    .dataframe tbody tr th {\n",
       "        vertical-align: top;\n",
       "    }\n",
       "\n",
       "    .dataframe thead th {\n",
       "        text-align: right;\n",
       "    }\n",
       "</style>\n",
       "<table border=\"1\" class=\"dataframe\">\n",
       "  <thead>\n",
       "    <tr style=\"text-align: right;\">\n",
       "      <th></th>\n",
       "      <th>fox</th>\n",
       "      <th>jumps</th>\n",
       "      <th>quick</th>\n",
       "    </tr>\n",
       "  </thead>\n",
       "  <tbody>\n",
       "    <tr>\n",
       "      <th>0</th>\n",
       "      <td>1</td>\n",
       "      <td>1</td>\n",
       "      <td>0</td>\n",
       "    </tr>\n",
       "    <tr>\n",
       "      <th>1</th>\n",
       "      <td>1</td>\n",
       "      <td>1</td>\n",
       "      <td>1</td>\n",
       "    </tr>\n",
       "    <tr>\n",
       "      <th>2</th>\n",
       "      <td>1</td>\n",
       "      <td>1</td>\n",
       "      <td>2</td>\n",
       "    </tr>\n",
       "    <tr>\n",
       "      <th>3</th>\n",
       "      <td>0</td>\n",
       "      <td>0</td>\n",
       "      <td>0</td>\n",
       "    </tr>\n",
       "    <tr>\n",
       "      <th>4</th>\n",
       "      <td>2</td>\n",
       "      <td>2</td>\n",
       "      <td>1</td>\n",
       "    </tr>\n",
       "  </tbody>\n",
       "</table>\n",
       "</div>"
      ],
      "text/plain": [
       "   fox  jumps  quick\n",
       "0    1      1      0\n",
       "1    1      1      1\n",
       "2    1      1      2\n",
       "3    0      0      0\n",
       "4    2      2      1"
      ]
     },
     "execution_count": 47,
     "metadata": {},
     "output_type": "execute_result"
    }
   ],
   "source": [
    "# using \"min_df\", \"max_df\" to limit of word's count\n",
    "count_vect3 = CountVectorizer(min_df=3, stop_words=eng_stopwords)\n",
    "X = count_vect3.fit_transform(samples).toarray()\n",
    "\n",
    "print(X.sum(axis=0))\n",
    "pd.DataFrame(X, columns=count_vect3.get_feature_names())"
   ]
  },
  {
   "cell_type": "markdown",
   "metadata": {},
   "source": [
    "`TF-IDF`\n",
    "\n",
    "**TF-IDF(Term Frequency – Inverse Document Frequency) encoding** is a method of reducing weight because it does not count actual the number for words that are commonly contained in all documents. Usually these kind of words lack the ability to distinguish documents.\n",
    "\n",
    "For document $d$ and word $t$:\n",
    "$$\\text{tf-idf}(d, t) = \\text{tf}(d, t) \\cdot \\text{idf}(t)$$\n",
    "\n",
    "- $\\text{tf}(d,t)$: term frequency (=a specific word count)\n",
    "- $n$: samples\n",
    "- $\\text{df}(t)$: the number of document which having a specific word\n",
    "- $\\text{idf}(t)$: inverse document frequency (=inverse of $\\text{df}(t)$)\n",
    " - $\\text{idf}(d, t) = \\log \\dfrac{n}{1 + \\text{df}(t)}$"
   ]
  },
  {
   "cell_type": "code",
   "execution_count": 48,
   "metadata": {},
   "outputs": [
    {
     "data": {
      "text/html": [
       "<div>\n",
       "<style scoped>\n",
       "    .dataframe tbody tr th:only-of-type {\n",
       "        vertical-align: middle;\n",
       "    }\n",
       "\n",
       "    .dataframe tbody tr th {\n",
       "        vertical-align: top;\n",
       "    }\n",
       "\n",
       "    .dataframe thead th {\n",
       "        text-align: right;\n",
       "    }\n",
       "</style>\n",
       "<table border=\"1\" class=\"dataframe\">\n",
       "  <thead>\n",
       "    <tr style=\"text-align: right;\">\n",
       "      <th></th>\n",
       "      <th>brown</th>\n",
       "      <th>dog</th>\n",
       "      <th>fox</th>\n",
       "      <th>jumps</th>\n",
       "      <th>lazy</th>\n",
       "      <th>over</th>\n",
       "      <th>quick</th>\n",
       "      <th>some</th>\n",
       "      <th>the</th>\n",
       "    </tr>\n",
       "  </thead>\n",
       "  <tbody>\n",
       "    <tr>\n",
       "      <th>0</th>\n",
       "      <td>0.000000</td>\n",
       "      <td>0.000000</td>\n",
       "      <td>0.606856</td>\n",
       "      <td>0.606856</td>\n",
       "      <td>0.000000</td>\n",
       "      <td>0.000000</td>\n",
       "      <td>0.000000</td>\n",
       "      <td>0.000000</td>\n",
       "      <td>0.513275</td>\n",
       "    </tr>\n",
       "    <tr>\n",
       "      <th>1</th>\n",
       "      <td>0.000000</td>\n",
       "      <td>0.000000</td>\n",
       "      <td>0.370649</td>\n",
       "      <td>0.370649</td>\n",
       "      <td>0.000000</td>\n",
       "      <td>0.657899</td>\n",
       "      <td>0.440603</td>\n",
       "      <td>0.000000</td>\n",
       "      <td>0.313492</td>\n",
       "    </tr>\n",
       "    <tr>\n",
       "      <th>2</th>\n",
       "      <td>0.523001</td>\n",
       "      <td>0.000000</td>\n",
       "      <td>0.294649</td>\n",
       "      <td>0.294649</td>\n",
       "      <td>0.000000</td>\n",
       "      <td>0.000000</td>\n",
       "      <td>0.700519</td>\n",
       "      <td>0.000000</td>\n",
       "      <td>0.249213</td>\n",
       "    </tr>\n",
       "    <tr>\n",
       "      <th>3</th>\n",
       "      <td>0.000000</td>\n",
       "      <td>0.507338</td>\n",
       "      <td>0.000000</td>\n",
       "      <td>0.000000</td>\n",
       "      <td>0.507338</td>\n",
       "      <td>0.000000</td>\n",
       "      <td>0.000000</td>\n",
       "      <td>0.628833</td>\n",
       "      <td>0.299642</td>\n",
       "    </tr>\n",
       "    <tr>\n",
       "      <th>4</th>\n",
       "      <td>0.000000</td>\n",
       "      <td>0.634399</td>\n",
       "      <td>0.442999</td>\n",
       "      <td>0.442999</td>\n",
       "      <td>0.317199</td>\n",
       "      <td>0.000000</td>\n",
       "      <td>0.263304</td>\n",
       "      <td>0.000000</td>\n",
       "      <td>0.187343</td>\n",
       "    </tr>\n",
       "  </tbody>\n",
       "</table>\n",
       "</div>"
      ],
      "text/plain": [
       "      brown       dog       fox     jumps      lazy      over     quick  \\\n",
       "0  0.000000  0.000000  0.606856  0.606856  0.000000  0.000000  0.000000   \n",
       "1  0.000000  0.000000  0.370649  0.370649  0.000000  0.657899  0.440603   \n",
       "2  0.523001  0.000000  0.294649  0.294649  0.000000  0.000000  0.700519   \n",
       "3  0.000000  0.507338  0.000000  0.000000  0.507338  0.000000  0.000000   \n",
       "4  0.000000  0.634399  0.442999  0.442999  0.317199  0.000000  0.263304   \n",
       "\n",
       "       some       the  \n",
       "0  0.000000  0.513275  \n",
       "1  0.000000  0.313492  \n",
       "2  0.000000  0.249213  \n",
       "3  0.628833  0.299642  \n",
       "4  0.000000  0.187343  "
      ]
     },
     "execution_count": 48,
     "metadata": {},
     "output_type": "execute_result"
    }
   ],
   "source": [
    "from sklearn.feature_extraction.text import TfidfVectorizer\n",
    "\n",
    "tfidf_vect = TfidfVectorizer().fit(samples)\n",
    "X = tfidf_vect.transform(samples).toarray()\n",
    "\n",
    "pd.DataFrame(X, columns=tfidf_vect.get_feature_names())"
   ]
  },
  {
   "cell_type": "code",
   "execution_count": 49,
   "metadata": {},
   "outputs": [
    {
     "data": {
      "text/html": [
       "<div>\n",
       "<style scoped>\n",
       "    .dataframe tbody tr th:only-of-type {\n",
       "        vertical-align: middle;\n",
       "    }\n",
       "\n",
       "    .dataframe tbody tr th {\n",
       "        vertical-align: top;\n",
       "    }\n",
       "\n",
       "    .dataframe thead th {\n",
       "        text-align: right;\n",
       "    }\n",
       "</style>\n",
       "<table border=\"1\" class=\"dataframe\">\n",
       "  <thead>\n",
       "    <tr style=\"text-align: right;\">\n",
       "      <th></th>\n",
       "      <th>brown</th>\n",
       "      <th>dog</th>\n",
       "      <th>fox</th>\n",
       "      <th>jumps</th>\n",
       "      <th>lazy</th>\n",
       "      <th>over</th>\n",
       "      <th>quick</th>\n",
       "      <th>some</th>\n",
       "      <th>the</th>\n",
       "    </tr>\n",
       "  </thead>\n",
       "  <tbody>\n",
       "    <tr>\n",
       "      <th>0</th>\n",
       "      <td>0</td>\n",
       "      <td>0</td>\n",
       "      <td>1</td>\n",
       "      <td>1</td>\n",
       "      <td>0</td>\n",
       "      <td>0</td>\n",
       "      <td>0</td>\n",
       "      <td>0</td>\n",
       "      <td>1</td>\n",
       "    </tr>\n",
       "    <tr>\n",
       "      <th>1</th>\n",
       "      <td>0</td>\n",
       "      <td>0</td>\n",
       "      <td>1</td>\n",
       "      <td>1</td>\n",
       "      <td>0</td>\n",
       "      <td>1</td>\n",
       "      <td>1</td>\n",
       "      <td>0</td>\n",
       "      <td>1</td>\n",
       "    </tr>\n",
       "    <tr>\n",
       "      <th>2</th>\n",
       "      <td>1</td>\n",
       "      <td>0</td>\n",
       "      <td>1</td>\n",
       "      <td>1</td>\n",
       "      <td>0</td>\n",
       "      <td>0</td>\n",
       "      <td>2</td>\n",
       "      <td>0</td>\n",
       "      <td>1</td>\n",
       "    </tr>\n",
       "    <tr>\n",
       "      <th>3</th>\n",
       "      <td>0</td>\n",
       "      <td>1</td>\n",
       "      <td>0</td>\n",
       "      <td>0</td>\n",
       "      <td>1</td>\n",
       "      <td>0</td>\n",
       "      <td>0</td>\n",
       "      <td>1</td>\n",
       "      <td>1</td>\n",
       "    </tr>\n",
       "    <tr>\n",
       "      <th>4</th>\n",
       "      <td>0</td>\n",
       "      <td>2</td>\n",
       "      <td>2</td>\n",
       "      <td>2</td>\n",
       "      <td>1</td>\n",
       "      <td>0</td>\n",
       "      <td>1</td>\n",
       "      <td>0</td>\n",
       "      <td>1</td>\n",
       "    </tr>\n",
       "  </tbody>\n",
       "</table>\n",
       "</div>"
      ],
      "text/plain": [
       "   brown  dog  fox  jumps  lazy  over  quick  some  the\n",
       "0      0    0    1      1     0     0      0     0    1\n",
       "1      0    0    1      1     0     1      1     0    1\n",
       "2      1    0    1      1     0     0      2     0    1\n",
       "3      0    1    0      0     1     0      0     1    1\n",
       "4      0    2    2      2     1     0      1     0    1"
      ]
     },
     "execution_count": 49,
     "metadata": {},
     "output_type": "execute_result"
    }
   ],
   "source": [
    "# compare with CountVectorizer\n",
    "X_count = CountVectorizer().fit_transform(samples).toarray()\n",
    "pd.DataFrame(X_count, columns=tfidf_vect.get_feature_names())"
   ]
  },
  {
   "cell_type": "markdown",
   "metadata": {},
   "source": [
    "[`HashingVectorizer`](https://scikit-learn.org/stable/modules/generated/sklearn.feature_extraction.text.HashingVectorizer.html)\n",
    "\n",
    "`CountVectorizer` performs all operations on memory, the larger the size of the document, the slower to execute. `HashingVectorizer` can reduce memory and execution time by using hash functions to generate index for words.\n",
    "\n",
    "This strategy has several advantages:\n",
    "\n",
    "- it is very low memory scalable to large datasets as there is no need to store a vocabulary dictionary in memory\n",
    "- it is fast to pickle and un-pickle as it holds no state besides the constructor parameters\n",
    "- it can be used in a streaming (partial fit) or parallel pipeline as there is no state computed during fit.\n",
    "\n",
    "There are also a couple of cons (vs using a CountVectorizer with an in-memory vocabulary):\n",
    "\n",
    "- there is no way to compute the inverse transform (from feature indices to string feature names) which can be a problem when trying to introspect which features are most important to a model.\n",
    "- there can be collisions: distinct tokens can be mapped to the same feature index. However in practice this is rarely an issue if n_features is large enough (e.g. 2 ** 18 for text classification problems).\n",
    "- no IDF weighting as this would render the transformer stateful.\n",
    "\n",
    "Param:\n",
    "- `n_features`: The number of features (columns) in the output matrices. Small numbers of features are likely to cause hash collisions, but large numbers will cause larger coefficient dimensions in linear learners."
   ]
  },
  {
   "cell_type": "code",
   "execution_count": 50,
   "metadata": {},
   "outputs": [
    {
     "name": "stdout",
     "output_type": "stream",
     "text": [
      "(5, 4)\n"
     ]
    }
   ],
   "source": [
    "from sklearn.feature_extraction.text import HashingVectorizer\n",
    "\n",
    "hash_vect = HashingVectorizer(n_features=4) # n_features: default=2**10\n",
    "X = hash_vect.fit_transform(samples)\n",
    "print(X.shape)"
   ]
  },
  {
   "cell_type": "code",
   "execution_count": 51,
   "metadata": {},
   "outputs": [
    {
     "data": {
      "text/plain": [
       "array([[ 0.        ,  0.57735027, -0.57735027, -0.57735027],\n",
       "       [ 0.        ,  0.89442719, -0.4472136 ,  0.        ],\n",
       "       [ 0.28867513,  0.8660254 , -0.28867513, -0.28867513],\n",
       "       [ 0.5       , -0.5       , -0.5       , -0.5       ],\n",
       "       [ 0.        ,  0.30151134, -0.30151134, -0.90453403]])"
      ]
     },
     "execution_count": 51,
     "metadata": {},
     "output_type": "execute_result"
    }
   ],
   "source": [
    "X.toarray()"
   ]
  },
  {
   "cell_type": "code",
   "execution_count": 52,
   "metadata": {
    "scrolled": true
   },
   "outputs": [
    {
     "data": {
      "text/plain": [
       "11314"
      ]
     },
     "execution_count": 52,
     "metadata": {},
     "output_type": "execute_result"
    }
   ],
   "source": [
    "from sklearn.datasets import fetch_20newsgroups\n",
    "\n",
    "twenty = fetch_20newsgroups()\n",
    "len(twenty.data)"
   ]
  },
  {
   "cell_type": "code",
   "execution_count": 53,
   "metadata": {},
   "outputs": [
    {
     "name": "stdout",
     "output_type": "stream",
     "text": [
      "From: guykuo@carson.u.washington.edu (Guy Kuo)\n",
      "Subject: SI Clock Poll - Final Call\n",
      "Summary: Final call for SI clock reports\n",
      "Keywords: SI,acceleration,clock,upgrade\n",
      "Article-I.D.: shelley.1qvfo9INNc3s\n",
      "Organization: University of Washington\n",
      "Lines: 11\n",
      "NNTP-Posting-Host: carson.u.washington.edu\n",
      "\n",
      "A fair number of brave souls who upgraded their SI clock oscillator have\n",
      "shared their experiences for this poll. Please send a brief message detailing\n",
      "your experiences with the procedure. Top speed attained, CPU rated speed,\n",
      "add on cards and adapters, heat sinks, hour of usage per day, floppy disk\n",
      "functionality with 800 and 1.4 m floppies are especially requested.\n",
      "\n",
      "I will be summarizing in the next two days, so please add to the network\n",
      "knowledge base if you have done the clock upgrade and haven't answered this\n",
      "poll. Thanks.\n",
      "\n",
      "Guy Kuo <guykuo@u.washington.edu>\n",
      "\n"
     ]
    }
   ],
   "source": [
    "print(twenty.data[1])"
   ]
  },
  {
   "cell_type": "code",
   "execution_count": 54,
   "metadata": {},
   "outputs": [
    {
     "name": "stdout",
     "output_type": "stream",
     "text": [
      "CPU times: user 1.64 s, sys: 7.88 ms, total: 1.65 s\n",
      "Wall time: 1.65 s\n"
     ]
    }
   ],
   "source": [
    "%time countvect = CountVectorizer().fit_transform(twenty.data)"
   ]
  },
  {
   "cell_type": "code",
   "execution_count": 55,
   "metadata": {},
   "outputs": [
    {
     "data": {
      "text/plain": [
       "(11314, 130107)"
      ]
     },
     "execution_count": 55,
     "metadata": {},
     "output_type": "execute_result"
    }
   ],
   "source": [
    "countvect.shape"
   ]
  },
  {
   "cell_type": "code",
   "execution_count": 56,
   "metadata": {},
   "outputs": [
    {
     "name": "stdout",
     "output_type": "stream",
     "text": [
      "CPU times: user 1.38 s, sys: 3.73 ms, total: 1.38 s\n",
      "Wall time: 1.38 s\n"
     ]
    }
   ],
   "source": [
    "%time hashvec = HashingVectorizer(n_features=2**10).fit_transform(twenty.data)"
   ]
  },
  {
   "cell_type": "code",
   "execution_count": 57,
   "metadata": {},
   "outputs": [
    {
     "data": {
      "text/plain": [
       "(11314, 1024)"
      ]
     },
     "execution_count": 57,
     "metadata": {},
     "output_type": "execute_result"
    }
   ],
   "source": [
    "hashvec.shape"
   ]
  }
 ],
 "metadata": {
  "kernelspec": {
   "display_name": "Python 3",
   "language": "python",
   "name": "python3"
  },
  "language_info": {
   "codemirror_mode": {
    "name": "ipython",
    "version": 3
   },
   "file_extension": ".py",
   "mimetype": "text/x-python",
   "name": "python",
   "nbconvert_exporter": "python",
   "pygments_lexer": "ipython3",
   "version": "3.7.1"
  }
 },
 "nbformat": 4,
 "nbformat_minor": 4
}
